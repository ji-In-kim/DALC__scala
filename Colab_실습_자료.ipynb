{
  "nbformat": 4,
  "nbformat_minor": 0,
  "metadata": {
    "colab": {
      "name": "Colab 실습 자료",
      "provenance": [],
      "collapsed_sections": []
    },
    "kernelspec": {
      "name": "python3",
      "display_name": "Python 3"
    }
  },
  "cells": [
    {
      "cell_type": "markdown",
      "metadata": {
        "id": "EWndrTzeEvmT"
      },
      "source": [
        "# Colab 실습 하기\r\n"
      ]
    },
    {
      "cell_type": "markdown",
      "metadata": {
        "id": "f93DYiLJE1Iz"
      },
      "source": [
        "## 1. 마크다운으로 내 깃허브 링크 삽입하기\r\n",
        "\r\n",
        "(https://github.com/ji-In-kim/DALC__scala.git)\r\n"
      ]
    },
    {
      "cell_type": "markdown",
      "metadata": {
        "id": "wEZnlUbIFVa-"
      },
      "source": [
        "## 2. 마크다운으로 이미지 삽입하기\r\n",
        "\r\n",
        "- 이미지는 인터넷에 있는 이미지 아무거나 또는 내 pc에 저장되어 있는 아무이미지를 삽입해주시면 됩니다. \r\n",
        "\r\n",
        "![](http://image.yes24.com/blogimage/blog/h/b/hbooklove/BFeyIIda.jpg)"
      ]
    },
    {
      "cell_type": "markdown",
      "metadata": {
        "id": "rtnleslqFhT8"
      },
      "source": [
        "## 3. 마크다운으로 수업 배운 것 정리해보기\r\n",
        "- 전공수업, 교양 수업, 오늘 ot내용, 요즘 준비하는 자격증 내용 등등 기타 자기가 최근 배운 것 아무거나 최소 3줄이상 작성해주세요. (이때 단어강조하기, 문장 띄어쓰기, 인용구등 사용하기)\r\n",
        "\r\n",
        "(DALC : 첫번째 과제를 통해 깃허브 이용하는 법을 배웠다. 짝꿍님과 운영진분들께서 친절히 알려주셔서 어찌어찌 완성했다. 파이썬 처음 배울때도 나만 에러가 엄청 떴었는데 이번에도 같은 시행착오를 거치는 것 같다. 올려주신 사용방법 틈틈히 공부해야겠다. _역시 나는 컴맹_)\r\n"'\n',
        "(데이터베이스기초 : 파일시스템과 데이터베이스시스템의 차이 : *중요*)\r\n", "\r\n"
      ]
    }
  ]
}
