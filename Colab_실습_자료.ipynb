{
  "nbformat": 4,
  "nbformat_minor": 0,
  "metadata": {
    "colab": {
      "name": "Colab 실습 자료",
      "provenance": [],
      "collapsed_sections": []
    },
    "kernelspec": {
      "name": "python3",
      "display_name": "Python 3"
    }
  },
  "cells": [
    {
      "cell_type": "markdown",
      "metadata": {
        "id": "EWndrTzeEvmT"
      },
      "source": [
        "# Colab 실습 하기\r\n"
      ]
    },
    {
      "cell_type": "markdown",
      "metadata": {
        "id": "f93DYiLJE1Iz"
      },
      "source": [
        "## 1. 마크다운으로 내 깃허브 링크 삽입하기\r\n",
        "\r\n",
        "(https://github.com/ji-In-kim/DALC__scala.git)\r\n"
      ]
    },
    {
      "cell_type": "markdown",
      "metadata": {
        "id": "wEZnlUbIFVa-"
      },
      "source": [
        "## 2. 마크다운으로 이미지 삽입하기\r\n",
        "\r\n",
        "- 이미지는 인터넷에 있는 이미지 아무거나 또는 내 pc에 저장되어 있는 아무이미지를 삽입해주시면 됩니다. \r\n",
        "\r\n",
        "![](http://image.yes24.com/momo/TopCate02/MidCate03/129316.jpg)"
      ]
    },
    {
      "cell_type": "markdown",
      "metadata": {
        "id": "rtnleslqFhT8"
      },
      "source": [
        "## 3. 마크다운으로 수업 배운 것 정리해보기\r\n",
        "- 전공수업, 교양 수업, 오늘 ot내용, 요즘 준비하는 자격증 내용 등등 기타 자기가 최근 배운 것 아무거나 최소 3줄이상 작성해주세요. (이때 단어강조하기, 문장 띄어쓰기, 인용구등 사용하기)\r\n",
        "\r\n",
2

  "nbformat": 4,

3

  "nbformat_minor": 0,

4

  "metadata": {

5

    "colab": {

6

      "name": "Colab 실습 자료",

7

      "provenance": [],

8

      "collapsed_sections": []

9

    },

10

    "kernelspec": {

11

      "name": "python3",

12

      "display_name": "Python 3"

13

    }

14

  },

15

  "cells": [

16

    {

17

      "cell_type": "markdown",

18

      "metadata": {

19

        "id": "EWndrTzeEvmT"

20

      },

21

      "source": [

22

        "# Colab 실습 하기\r\n"

23

      ]

24

    },

25

    {

26

      "cell_type": "markdown",

27

      "metadata": {

28

        "id": "f93DYiLJE1Iz"

29

      },

30

      "source": [

31

        "## 1. 마크다운으로 내 깃허브 링크 삽입하기\r\n",

32

        "\r\n",

33

        "(https://github.com/ji-In-kim/DALC__scala.git)\r\n"

34

      ]

35

    },

36

    {

37

      "cell_type": "markdown",

38

      "metadata": {

39

        "id": "wEZnlUbIFVa-"

40

      },

41

      "source": [

42

        "## 2. 마크다운으로 이미지 삽입하기\r\n",

43

        "\r\n",

44

        "- 이미지는 인터넷에 있는 이미지 아무거나 또는 내 pc에 저장되어 있는 아무이미지를 삽입해주시면 됩니다. \r\n",

45

        "\r\n",

46

        "![](http://image.yes24.com/momo/TopCate02/MidCate03/129316.jpg)"

47

      ]

48

    },

49

    {

50

      "cell_type": "markdown",

51

      "metadata": {

52

        "id": "rtnleslqFhT8"

53

      },

54

      "source": [

55

        "## 3. 마크다운으로 수업 배운 것 정리해보기\r\n",

56

        "- 전공수업, 교양 수업, 오늘 ot내용, 요즘 준비하는 자격증 내용 등등 기타 자기가 최근 배운 것 아무거나 최소 3줄이상 작성해주세요. (이때 단어강조하기, 문장 띄어쓰기, 인용구등 사용하기)\r\n",

57

        "\r\n",

58

        "       "DALC : 첫번째 과제를 통해 깃허브 이용하는 방법을 조금 알게 되었다. 짝꿍님이랑 운영진분들께서 친절히 알려주셔서 어찌어찌 완성했다. 깃허브 사용방법도 알려주셔서 틈틈히 열심히 공부해야겠다. 좀 벅차지만 낙오되지 않도록 열심히 따라가야겠다._역시 나는 컴맹_\r\n",
        "\r\n"
      ]
    }
  ]
}
