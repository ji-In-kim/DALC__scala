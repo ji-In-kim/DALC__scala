{
  "nbformat": 4,
  "nbformat_minor": 0,
  "metadata": {
    "colab": {
      "name": "Untitled6.ipynb",
      "provenance": [],
      "authorship_tag": "ABX9TyMFftXze5xFFdjwYu5MP3+N",
      "include_colab_link": true
    },
    "kernelspec": {
      "name": "python3",
      "display_name": "Python 3"
    },
    "language_info": {
      "name": "python"
    }
  },
  "cells": [
    {
      "cell_type": "markdown",
      "metadata": {
        "id": "view-in-github",
        "colab_type": "text"
      },
      "source": [
        "<a href=\"https://colab.research.google.com/github/ji-In-kim/DALC__scala/blob/main/Untitled6.ipynb\" target=\"_parent\"><img src=\"https://colab.research.google.com/assets/colab-badge.svg\" alt=\"Open In Colab\"/></a>"
      ]
    },
    {
      "cell_type": "code",
      "metadata": {
        "id": "K01PEnoT72O1"
      },
      "source": [
        "11) Matplotlib 라이브러리 기본 사용법\n",
        "- plt.savefig('my_fogure.jpg\") : 그림 파일 저장\n",
        "- from google.colab import files / files.download('my_figure.jpg') : 파일 다운로드\n",
        "\n",
        "2) Matplotlib 인터페이스(실습환경)\n",
        "-2가지 스타일 , 적재적소 활용\n",
        "_MATLAB_ : 단순한 그림, 편리 / 수치해석 및 프로그래밍 환경을 제공하는 공학용 소프트웨어\n",
        "_객체지향스타일_: 복잡한 그림, 상세안 설정 가능, 파이썬 프로그램 친화적 / 플롯 그리드를 새성, Ax는 두 개의 축 객체읭 배열을 생성\n",
        "\n",
        "-plt.figure() : 그림이 달길 틀 생성\n",
        "-x=np.linspace(-10,10,100) : 첫번쨰 패널 생성, 현재 축 생성\n",
        "-plt.subplot(2,1,1) / plt.plot(x,np.sin(x)) : 첫번쨰 패널에 사인그래프 생성\n",
        "- plt.subplot(2,1,2) / plt.plot(x,np.cos(x)); : 두번째 패널에 코사인 그래프 생성"
      ],
      "execution_count": null,
      "outputs": []
    },
    {
      "cell_type": "code",
      "metadata": {
        "id": "zV2Izafd8Jkl"
      },
      "source": [
        "__[빅데이터 시각화]__\n",
        "\n",
        "1) 기본 선그림 작성\n",
        "\n",
        "- y=f(x) 시각화 한 것\n",
        "-% matplotlib inpline/import matplotlib.pyplot as plt/ plt.style.use('seaborn-whitegrid')/imort numpy as np\n",
        "-(1) 축 만들기 : fig=plt.figure()\n",
        "-(2) 객체 반환하여 함수로 : fig.suptle(\"Example1:Line Plot\")\n",
        "-(3) 축 생성 : ax=plt.axes()\n",
        "plt.plt(x,np.sin(x))\n",
        "plt.plot(x,np.cos(x));\n",
        "\n",
        "-(1) 축과 라인 변경하기\n",
        "-색상 : plt.plot(x,x+0,linestyle='solid') / green, syan, black, red\n",
        "-축의 점위 : plt.plot(x,np.cos(x))\n",
        "-축의 스케일 변겅 : plt.plot(x,np.exp(-x));\n",
        "-(2) 플럿 조정\n",
        "-축의 레이블 추가 : plt.plot(x.cos(x))\n",
        "-범례 추가 : plt.plot(x,sinx(x),'-g',label='sin(x)')\n",
        "\n",
        "\n",
        "2) 기본 점그림 작성\n",
        "\n",
        "-점과 점 사이의 선후관계나 관련성이 없는 경우 산점도 이용\n",
        "-x=np.linspace(0,10,25) : 세번째 인수로 마커(점의 모양) 지정\n",
        "-'o': 원혀의 점/ '.' : 더 작은 원형의 점\n",
        "-선그림에 마커를 표시하면 산점도로 변환\n",
        "-선의 종류, 마커의 종류, 색상을 나타내는 코드 : plt.plot(x,np.sin(x).'-og');\n",
        "\n",
        "-더 강력한 메쏘드: plt.scatter . 섬세하게 조정 가능\n",
        "- 다중서브플롯\n",
        "-컬러의 값은 0~1 사이\n",
        "\n",
        "\n"
      ],
      "execution_count": null,
      "outputs": []
    },
    {
      "cell_type": "code",
      "metadata": {
        "id": "FGoBImvd8qFa"
      },
      "source": [
        "\n",
        "__[다중서브플롯]__\n",
        "\n",
        "-그리드를 지정하는 인수를 전달\n",
        "- 인수: 해의 개수, 열의 개수, 서브플롯 번호\n",
        "\n",
        "1) subplot() 함수\n",
        "-서브플롯을 각각 생성하는 함수\n",
        "- 인덱스 결과 : 좌상다넹서 우하단으로 이어짐\n",
        "- 파이썬 for 문-> ''plt.subplotes()''\n",
        "- 더 복잡한 다중플롯\n",
        "- 0.5는 서브플롯의 가우네르 의미\n",
        "-다중히스토그램 : 산점도로 표현된 그래프와 x축, y축을 따라 히스토그램을 그려서 데이터의 분포를 파악하는 데 유용한 그림\n",
        "\n",
        "2) subplots() 함수\n",
        "-서브플롯을 한꺼번에 생성하는 하뭇\n",
        "\n",
        "3) GriSpec() 함수\n",
        "-‘ok’는 검은 색상의 점으로 표시하라는 뜻\n",
        "-복잡한 형태의 서브플롯을 생성하는 함수\n"
      ],
      "execution_count": null,
      "outputs": []
    }
  ]
}